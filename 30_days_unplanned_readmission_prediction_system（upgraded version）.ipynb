{
  "nbformat": 4,
  "nbformat_minor": 0,
  "metadata": {
    "colab": {
      "name": "30-days unplanned readmission prediction system.ipynb",
      "provenance": [],
      "collapsed_sections": [],
      "toc_visible": true
    },
    "kernelspec": {
      "name": "python3",
      "display_name": "Python 3"
    }
  },
  "cells": [
    {
      "cell_type": "markdown",
      "metadata": {
        "id": "8tGTToCYA0AM",
        "colab_type": "text"
      },
      "source": [
        "# **Import and clean data**"
      ]
    },
    {
      "cell_type": "markdown",
      "metadata": {
        "id": "eiHAgRZPPri9",
        "colab_type": "text"
      },
      "source": [
        "Table ADMISSIONS and Table NOTEEVENT are the two tables that will be used in this project. These two tables were uploaded from a.CSV file in the mimic III database to Google Drive and then imported by the mounted Drive in the Jupyter Notebook."
      ]
    },
    {
      "cell_type": "code",
      "metadata": {
        "id": "dAIUJV8OAc65",
        "colab_type": "code",
        "colab": {
          "base_uri": "https://localhost:8080/",
          "height": 35
        },
        "outputId": "0166f9fa-46f0-4947-8b53-646c2bda24ed"
      },
      "source": [
        "from google.colab import drive\n",
        "drive.mount('/content/drive')\n",
        "table_A = \"drive/My Drive/Msc project/ADMISSIONS.csv\"\n",
        "table_N = \"drive/My Drive/Msc project/NOTEEVENTS.csv\""
      ],
      "execution_count": 1,
      "outputs": [
        {
          "output_type": "stream",
          "text": [
            "Drive already mounted at /content/drive; to attempt to forcibly remount, call drive.mount(\"/content/drive\", force_remount=True).\n"
          ],
          "name": "stdout"
        }
      ]
    },
    {
      "cell_type": "markdown",
      "metadata": {
        "id": "kZ_4tYNjIUWw",
        "colab_type": "text"
      },
      "source": [
        "## Import ADMISSIONS table"
      ]
    },
    {
      "cell_type": "code",
      "metadata": {
        "id": "-SvqWSA7ERug",
        "colab_type": "code",
        "colab": {}
      },
      "source": [
        "import pandas as pd\n",
        "import numpy as np\n",
        "import matplotlib.pyplot as plt"
      ],
      "execution_count": 2,
      "outputs": []
    },
    {
      "cell_type": "code",
      "metadata": {
        "id": "nC17-loTri48",
        "colab_type": "code",
        "colab": {
          "base_uri": "https://localhost:8080/",
          "height": 285
        },
        "outputId": "134446db-22f2-4f7a-8f1c-3b88c8f683f3"
      },
      "source": [
        "df_adm = pd.read_csv(table_A)\n",
        "df_adm.head()"
      ],
      "execution_count": 3,
      "outputs": [
        {
          "output_type": "execute_result",
          "data": {
            "text/html": [
              "<div>\n",
              "<style scoped>\n",
              "    .dataframe tbody tr th:only-of-type {\n",
              "        vertical-align: middle;\n",
              "    }\n",
              "\n",
              "    .dataframe tbody tr th {\n",
              "        vertical-align: top;\n",
              "    }\n",
              "\n",
              "    .dataframe thead th {\n",
              "        text-align: right;\n",
              "    }\n",
              "</style>\n",
              "<table border=\"1\" class=\"dataframe\">\n",
              "  <thead>\n",
              "    <tr style=\"text-align: right;\">\n",
              "      <th></th>\n",
              "      <th>ROW_ID</th>\n",
              "      <th>SUBJECT_ID</th>\n",
              "      <th>HADM_ID</th>\n",
              "      <th>ADMITTIME</th>\n",
              "      <th>DISCHTIME</th>\n",
              "      <th>DEATHTIME</th>\n",
              "      <th>ADMISSION_TYPE</th>\n",
              "      <th>ADMISSION_LOCATION</th>\n",
              "      <th>DISCHARGE_LOCATION</th>\n",
              "      <th>INSURANCE</th>\n",
              "      <th>LANGUAGE</th>\n",
              "      <th>RELIGION</th>\n",
              "      <th>MARITAL_STATUS</th>\n",
              "      <th>ETHNICITY</th>\n",
              "      <th>EDREGTIME</th>\n",
              "      <th>EDOUTTIME</th>\n",
              "      <th>DIAGNOSIS</th>\n",
              "      <th>HOSPITAL_EXPIRE_FLAG</th>\n",
              "      <th>HAS_CHARTEVENTS_DATA</th>\n",
              "    </tr>\n",
              "  </thead>\n",
              "  <tbody>\n",
              "    <tr>\n",
              "      <th>0</th>\n",
              "      <td>21</td>\n",
              "      <td>22</td>\n",
              "      <td>165315</td>\n",
              "      <td>2196-04-09 12:26:00</td>\n",
              "      <td>2196-04-10 15:54:00</td>\n",
              "      <td>NaN</td>\n",
              "      <td>EMERGENCY</td>\n",
              "      <td>EMERGENCY ROOM ADMIT</td>\n",
              "      <td>DISC-TRAN CANCER/CHLDRN H</td>\n",
              "      <td>Private</td>\n",
              "      <td>NaN</td>\n",
              "      <td>UNOBTAINABLE</td>\n",
              "      <td>MARRIED</td>\n",
              "      <td>WHITE</td>\n",
              "      <td>2196-04-09 10:06:00</td>\n",
              "      <td>2196-04-09 13:24:00</td>\n",
              "      <td>BENZODIAZEPINE OVERDOSE</td>\n",
              "      <td>0</td>\n",
              "      <td>1</td>\n",
              "    </tr>\n",
              "    <tr>\n",
              "      <th>1</th>\n",
              "      <td>22</td>\n",
              "      <td>23</td>\n",
              "      <td>152223</td>\n",
              "      <td>2153-09-03 07:15:00</td>\n",
              "      <td>2153-09-08 19:10:00</td>\n",
              "      <td>NaN</td>\n",
              "      <td>ELECTIVE</td>\n",
              "      <td>PHYS REFERRAL/NORMAL DELI</td>\n",
              "      <td>HOME HEALTH CARE</td>\n",
              "      <td>Medicare</td>\n",
              "      <td>NaN</td>\n",
              "      <td>CATHOLIC</td>\n",
              "      <td>MARRIED</td>\n",
              "      <td>WHITE</td>\n",
              "      <td>NaN</td>\n",
              "      <td>NaN</td>\n",
              "      <td>CORONARY ARTERY DISEASE\\CORONARY ARTERY BYPASS...</td>\n",
              "      <td>0</td>\n",
              "      <td>1</td>\n",
              "    </tr>\n",
              "    <tr>\n",
              "      <th>2</th>\n",
              "      <td>23</td>\n",
              "      <td>23</td>\n",
              "      <td>124321</td>\n",
              "      <td>2157-10-18 19:34:00</td>\n",
              "      <td>2157-10-25 14:00:00</td>\n",
              "      <td>NaN</td>\n",
              "      <td>EMERGENCY</td>\n",
              "      <td>TRANSFER FROM HOSP/EXTRAM</td>\n",
              "      <td>HOME HEALTH CARE</td>\n",
              "      <td>Medicare</td>\n",
              "      <td>ENGL</td>\n",
              "      <td>CATHOLIC</td>\n",
              "      <td>MARRIED</td>\n",
              "      <td>WHITE</td>\n",
              "      <td>NaN</td>\n",
              "      <td>NaN</td>\n",
              "      <td>BRAIN MASS</td>\n",
              "      <td>0</td>\n",
              "      <td>1</td>\n",
              "    </tr>\n",
              "    <tr>\n",
              "      <th>3</th>\n",
              "      <td>24</td>\n",
              "      <td>24</td>\n",
              "      <td>161859</td>\n",
              "      <td>2139-06-06 16:14:00</td>\n",
              "      <td>2139-06-09 12:48:00</td>\n",
              "      <td>NaN</td>\n",
              "      <td>EMERGENCY</td>\n",
              "      <td>TRANSFER FROM HOSP/EXTRAM</td>\n",
              "      <td>HOME</td>\n",
              "      <td>Private</td>\n",
              "      <td>NaN</td>\n",
              "      <td>PROTESTANT QUAKER</td>\n",
              "      <td>SINGLE</td>\n",
              "      <td>WHITE</td>\n",
              "      <td>NaN</td>\n",
              "      <td>NaN</td>\n",
              "      <td>INTERIOR MYOCARDIAL INFARCTION</td>\n",
              "      <td>0</td>\n",
              "      <td>1</td>\n",
              "    </tr>\n",
              "    <tr>\n",
              "      <th>4</th>\n",
              "      <td>25</td>\n",
              "      <td>25</td>\n",
              "      <td>129635</td>\n",
              "      <td>2160-11-02 02:06:00</td>\n",
              "      <td>2160-11-05 14:55:00</td>\n",
              "      <td>NaN</td>\n",
              "      <td>EMERGENCY</td>\n",
              "      <td>EMERGENCY ROOM ADMIT</td>\n",
              "      <td>HOME</td>\n",
              "      <td>Private</td>\n",
              "      <td>NaN</td>\n",
              "      <td>UNOBTAINABLE</td>\n",
              "      <td>MARRIED</td>\n",
              "      <td>WHITE</td>\n",
              "      <td>2160-11-02 01:01:00</td>\n",
              "      <td>2160-11-02 04:27:00</td>\n",
              "      <td>ACUTE CORONARY SYNDROME</td>\n",
              "      <td>0</td>\n",
              "      <td>1</td>\n",
              "    </tr>\n",
              "  </tbody>\n",
              "</table>\n",
              "</div>"
            ],
            "text/plain": [
              "   ROW_ID  SUBJECT_ID  ...  HOSPITAL_EXPIRE_FLAG HAS_CHARTEVENTS_DATA\n",
              "0      21          22  ...                     0                    1\n",
              "1      22          23  ...                     0                    1\n",
              "2      23          23  ...                     0                    1\n",
              "3      24          24  ...                     0                    1\n",
              "4      25          25  ...                     0                    1\n",
              "\n",
              "[5 rows x 19 columns]"
            ]
          },
          "metadata": {
            "tags": []
          },
          "execution_count": 3
        }
      ]
    },
    {
      "cell_type": "code",
      "metadata": {
        "id": "IX3CcO5JUYSz",
        "colab_type": "code",
        "colab": {}
      },
      "source": [
        "df_adm.ADMITTIME = pd.to_datetime(df_adm.ADMITTIME, format = '%Y-%m-%d %H:%M:%S', errors = 'coerce')\n",
        "df_adm.DISCHTIME = pd.to_datetime(df_adm.DISCHTIME, format = '%Y-%m-%d %H:%M:%S', errors = 'coerce')\n",
        "df_adm.DEATHTIME = pd.to_datetime(df_adm.DEATHTIME, format = '%Y-%m-%d %H:%M:%S', errors = 'coerce')"
      ],
      "execution_count": 4,
      "outputs": []
    },
    {
      "cell_type": "markdown",
      "metadata": {
        "id": "FfLSzdLrIUXM",
        "colab_type": "text"
      },
      "source": [
        "## Get the next admission date if it exists"
      ]
    },
    {
      "cell_type": "markdown",
      "metadata": {
        "id": "fM2pdTK-IUXN",
        "colab_type": "text"
      },
      "source": [
        "Take the data for 'NEXT_ADMITTIME time' and sort it in chronological order"
      ]
    },
    {
      "cell_type": "code",
      "metadata": {
        "id": "-sB-oxb_E6d2",
        "colab_type": "code",
        "colab": {
          "base_uri": "https://localhost:8080/",
          "height": 200
        },
        "outputId": "fa03e605-bc13-4f75-d611-523a5d742dc0"
      },
      "source": [
        "df_adm = df_adm.sort_values(['SUBJECT_ID','ADMITTIME'])\n",
        "df_adm = df_adm.reset_index(drop = True)\n",
        "\n",
        "\n",
        "df_adm.loc[df_adm.SUBJECT_ID == 222,['SUBJECT_ID','ADMITTIME','ADMISSION_TYPE']]"
      ],
      "execution_count": 5,
      "outputs": [
        {
          "output_type": "execute_result",
          "data": {
            "text/html": [
              "<div>\n",
              "<style scoped>\n",
              "    .dataframe tbody tr th:only-of-type {\n",
              "        vertical-align: middle;\n",
              "    }\n",
              "\n",
              "    .dataframe tbody tr th {\n",
              "        vertical-align: top;\n",
              "    }\n",
              "\n",
              "    .dataframe thead th {\n",
              "        text-align: right;\n",
              "    }\n",
              "</style>\n",
              "<table border=\"1\" class=\"dataframe\">\n",
              "  <thead>\n",
              "    <tr style=\"text-align: right;\">\n",
              "      <th></th>\n",
              "      <th>SUBJECT_ID</th>\n",
              "      <th>ADMITTIME</th>\n",
              "      <th>ADMISSION_TYPE</th>\n",
              "    </tr>\n",
              "  </thead>\n",
              "  <tbody>\n",
              "    <tr>\n",
              "      <th>286</th>\n",
              "      <td>222</td>\n",
              "      <td>2137-07-15 15:31:00</td>\n",
              "      <td>EMERGENCY</td>\n",
              "    </tr>\n",
              "    <tr>\n",
              "      <th>287</th>\n",
              "      <td>222</td>\n",
              "      <td>2141-02-18 23:10:00</td>\n",
              "      <td>EMERGENCY</td>\n",
              "    </tr>\n",
              "    <tr>\n",
              "      <th>288</th>\n",
              "      <td>222</td>\n",
              "      <td>2142-06-11 07:15:00</td>\n",
              "      <td>ELECTIVE</td>\n",
              "    </tr>\n",
              "    <tr>\n",
              "      <th>289</th>\n",
              "      <td>222</td>\n",
              "      <td>2142-06-23 05:02:00</td>\n",
              "      <td>EMERGENCY</td>\n",
              "    </tr>\n",
              "    <tr>\n",
              "      <th>290</th>\n",
              "      <td>222</td>\n",
              "      <td>2143-02-16 11:20:00</td>\n",
              "      <td>EMERGENCY</td>\n",
              "    </tr>\n",
              "  </tbody>\n",
              "</table>\n",
              "</div>"
            ],
            "text/plain": [
              "     SUBJECT_ID           ADMITTIME ADMISSION_TYPE\n",
              "286         222 2137-07-15 15:31:00      EMERGENCY\n",
              "287         222 2141-02-18 23:10:00      EMERGENCY\n",
              "288         222 2142-06-11 07:15:00       ELECTIVE\n",
              "289         222 2142-06-23 05:02:00      EMERGENCY\n",
              "290         222 2143-02-16 11:20:00      EMERGENCY"
            ]
          },
          "metadata": {
            "tags": []
          },
          "execution_count": 5
        }
      ]
    },
    {
      "cell_type": "code",
      "metadata": {
        "id": "UI4aeGJRG4N7",
        "colab_type": "code",
        "colab": {
          "base_uri": "https://localhost:8080/",
          "height": 200
        },
        "outputId": "d9ff5480-07ce-4dcc-ce7e-8e1ea601d53a"
      },
      "source": [
        "df_adm['NEXT_ADMITTIME'] = df_adm.groupby('SUBJECT_ID').ADMITTIME.shift(-1)\n",
        "df_adm['NEXT_ADMISSION_TYPE'] = df_adm.groupby('SUBJECT_ID').ADMISSION_TYPE.shift(-1)\n",
        "\n",
        "df_adm.loc[df_adm.SUBJECT_ID == 222,['SUBJECT_ID','ADMITTIME','ADMISSION_TYPE','NEXT_ADMITTIME','NEXT_ADMISSION_TYPE']]"
      ],
      "execution_count": 6,
      "outputs": [
        {
          "output_type": "execute_result",
          "data": {
            "text/html": [
              "<div>\n",
              "<style scoped>\n",
              "    .dataframe tbody tr th:only-of-type {\n",
              "        vertical-align: middle;\n",
              "    }\n",
              "\n",
              "    .dataframe tbody tr th {\n",
              "        vertical-align: top;\n",
              "    }\n",
              "\n",
              "    .dataframe thead th {\n",
              "        text-align: right;\n",
              "    }\n",
              "</style>\n",
              "<table border=\"1\" class=\"dataframe\">\n",
              "  <thead>\n",
              "    <tr style=\"text-align: right;\">\n",
              "      <th></th>\n",
              "      <th>SUBJECT_ID</th>\n",
              "      <th>ADMITTIME</th>\n",
              "      <th>ADMISSION_TYPE</th>\n",
              "      <th>NEXT_ADMITTIME</th>\n",
              "      <th>NEXT_ADMISSION_TYPE</th>\n",
              "    </tr>\n",
              "  </thead>\n",
              "  <tbody>\n",
              "    <tr>\n",
              "      <th>286</th>\n",
              "      <td>222</td>\n",
              "      <td>2137-07-15 15:31:00</td>\n",
              "      <td>EMERGENCY</td>\n",
              "      <td>2141-02-18 23:10:00</td>\n",
              "      <td>EMERGENCY</td>\n",
              "    </tr>\n",
              "    <tr>\n",
              "      <th>287</th>\n",
              "      <td>222</td>\n",
              "      <td>2141-02-18 23:10:00</td>\n",
              "      <td>EMERGENCY</td>\n",
              "      <td>2142-06-11 07:15:00</td>\n",
              "      <td>ELECTIVE</td>\n",
              "    </tr>\n",
              "    <tr>\n",
              "      <th>288</th>\n",
              "      <td>222</td>\n",
              "      <td>2142-06-11 07:15:00</td>\n",
              "      <td>ELECTIVE</td>\n",
              "      <td>2142-06-23 05:02:00</td>\n",
              "      <td>EMERGENCY</td>\n",
              "    </tr>\n",
              "    <tr>\n",
              "      <th>289</th>\n",
              "      <td>222</td>\n",
              "      <td>2142-06-23 05:02:00</td>\n",
              "      <td>EMERGENCY</td>\n",
              "      <td>2143-02-16 11:20:00</td>\n",
              "      <td>EMERGENCY</td>\n",
              "    </tr>\n",
              "    <tr>\n",
              "      <th>290</th>\n",
              "      <td>222</td>\n",
              "      <td>2143-02-16 11:20:00</td>\n",
              "      <td>EMERGENCY</td>\n",
              "      <td>NaT</td>\n",
              "      <td>NaN</td>\n",
              "    </tr>\n",
              "  </tbody>\n",
              "</table>\n",
              "</div>"
            ],
            "text/plain": [
              "     SUBJECT_ID           ADMITTIME  ...      NEXT_ADMITTIME NEXT_ADMISSION_TYPE\n",
              "286         222 2137-07-15 15:31:00  ... 2141-02-18 23:10:00           EMERGENCY\n",
              "287         222 2141-02-18 23:10:00  ... 2142-06-11 07:15:00            ELECTIVE\n",
              "288         222 2142-06-11 07:15:00  ... 2142-06-23 05:02:00           EMERGENCY\n",
              "289         222 2142-06-23 05:02:00  ... 2143-02-16 11:20:00           EMERGENCY\n",
              "290         222 2143-02-16 11:20:00  ...                 NaT                 NaN\n",
              "\n",
              "[5 rows x 5 columns]"
            ]
          },
          "metadata": {
            "tags": []
          },
          "execution_count": 6
        }
      ]
    },
    {
      "cell_type": "markdown",
      "metadata": {
        "id": "7y9rSY3aHN3P",
        "colab_type": "text"
      },
      "source": [
        "Because the goal of this project is trying to predict unplanned readmissions, so ELECTIVE type need to be cleaned in next admission"
      ]
    },
    {
      "cell_type": "code",
      "metadata": {
        "id": "SCjm_R__HNWb",
        "colab_type": "code",
        "colab": {
          "base_uri": "https://localhost:8080/",
          "height": 200
        },
        "outputId": "ef369852-bd8c-460f-dd8e-3ce106b0b3e6"
      },
      "source": [
        "rows = df_adm.NEXT_ADMISSION_TYPE == 'ELECTIVE'\n",
        "df_adm.loc[rows,'NEXT_ADMITTIME'] = pd.NaT\n",
        "df_adm.loc[rows,'NEXT_ADMISSION_TYPE'] = np.NaN\n",
        "\n",
        "df_adm.loc[df_adm.SUBJECT_ID == 222,['SUBJECT_ID','ADMITTIME','ADMISSION_TYPE','NEXT_ADMITTIME','NEXT_ADMISSION_TYPE']]"
      ],
      "execution_count": 7,
      "outputs": [
        {
          "output_type": "execute_result",
          "data": {
            "text/html": [
              "<div>\n",
              "<style scoped>\n",
              "    .dataframe tbody tr th:only-of-type {\n",
              "        vertical-align: middle;\n",
              "    }\n",
              "\n",
              "    .dataframe tbody tr th {\n",
              "        vertical-align: top;\n",
              "    }\n",
              "\n",
              "    .dataframe thead th {\n",
              "        text-align: right;\n",
              "    }\n",
              "</style>\n",
              "<table border=\"1\" class=\"dataframe\">\n",
              "  <thead>\n",
              "    <tr style=\"text-align: right;\">\n",
              "      <th></th>\n",
              "      <th>SUBJECT_ID</th>\n",
              "      <th>ADMITTIME</th>\n",
              "      <th>ADMISSION_TYPE</th>\n",
              "      <th>NEXT_ADMITTIME</th>\n",
              "      <th>NEXT_ADMISSION_TYPE</th>\n",
              "    </tr>\n",
              "  </thead>\n",
              "  <tbody>\n",
              "    <tr>\n",
              "      <th>286</th>\n",
              "      <td>222</td>\n",
              "      <td>2137-07-15 15:31:00</td>\n",
              "      <td>EMERGENCY</td>\n",
              "      <td>2141-02-18 23:10:00</td>\n",
              "      <td>EMERGENCY</td>\n",
              "    </tr>\n",
              "    <tr>\n",
              "      <th>287</th>\n",
              "      <td>222</td>\n",
              "      <td>2141-02-18 23:10:00</td>\n",
              "      <td>EMERGENCY</td>\n",
              "      <td>NaT</td>\n",
              "      <td>NaN</td>\n",
              "    </tr>\n",
              "    <tr>\n",
              "      <th>288</th>\n",
              "      <td>222</td>\n",
              "      <td>2142-06-11 07:15:00</td>\n",
              "      <td>ELECTIVE</td>\n",
              "      <td>2142-06-23 05:02:00</td>\n",
              "      <td>EMERGENCY</td>\n",
              "    </tr>\n",
              "    <tr>\n",
              "      <th>289</th>\n",
              "      <td>222</td>\n",
              "      <td>2142-06-23 05:02:00</td>\n",
              "      <td>EMERGENCY</td>\n",
              "      <td>2143-02-16 11:20:00</td>\n",
              "      <td>EMERGENCY</td>\n",
              "    </tr>\n",
              "    <tr>\n",
              "      <th>290</th>\n",
              "      <td>222</td>\n",
              "      <td>2143-02-16 11:20:00</td>\n",
              "      <td>EMERGENCY</td>\n",
              "      <td>NaT</td>\n",
              "      <td>NaN</td>\n",
              "    </tr>\n",
              "  </tbody>\n",
              "</table>\n",
              "</div>"
            ],
            "text/plain": [
              "     SUBJECT_ID           ADMITTIME  ...      NEXT_ADMITTIME NEXT_ADMISSION_TYPE\n",
              "286         222 2137-07-15 15:31:00  ... 2141-02-18 23:10:00           EMERGENCY\n",
              "287         222 2141-02-18 23:10:00  ...                 NaT                 NaN\n",
              "288         222 2142-06-11 07:15:00  ... 2142-06-23 05:02:00           EMERGENCY\n",
              "289         222 2142-06-23 05:02:00  ... 2143-02-16 11:20:00           EMERGENCY\n",
              "290         222 2143-02-16 11:20:00  ...                 NaT                 NaN\n",
              "\n",
              "[5 rows x 5 columns]"
            ]
          },
          "metadata": {
            "tags": []
          },
          "execution_count": 7
        }
      ]
    },
    {
      "cell_type": "markdown",
      "metadata": {
        "id": "GAm2-eaNIUXn",
        "colab_type": "text"
      },
      "source": [
        "Now we need to backfill in the values that we removed.\n"
      ]
    },
    {
      "cell_type": "code",
      "metadata": {
        "id": "Lh0gMZQNHya7",
        "colab_type": "code",
        "colab": {
          "base_uri": "https://localhost:8080/",
          "height": 200
        },
        "outputId": "3a1db26c-a3f2-4964-bd8a-bf32a5317522"
      },
      "source": [
        "df_adm = df_adm.sort_values(['SUBJECT_ID','ADMITTIME'])\n",
        "df_adm[['NEXT_ADMITTIME','NEXT_ADMISSION_TYPE']] = df_adm.groupby(['SUBJECT_ID'])[['NEXT_ADMITTIME','NEXT_ADMISSION_TYPE']].fillna(method = 'bfill')\n",
        "\n",
        "df_adm.loc[df_adm.SUBJECT_ID == 222,['SUBJECT_ID','ADMITTIME','ADMISSION_TYPE','NEXT_ADMITTIME','NEXT_ADMISSION_TYPE']]"
      ],
      "execution_count": 8,
      "outputs": [
        {
          "output_type": "execute_result",
          "data": {
            "text/html": [
              "<div>\n",
              "<style scoped>\n",
              "    .dataframe tbody tr th:only-of-type {\n",
              "        vertical-align: middle;\n",
              "    }\n",
              "\n",
              "    .dataframe tbody tr th {\n",
              "        vertical-align: top;\n",
              "    }\n",
              "\n",
              "    .dataframe thead th {\n",
              "        text-align: right;\n",
              "    }\n",
              "</style>\n",
              "<table border=\"1\" class=\"dataframe\">\n",
              "  <thead>\n",
              "    <tr style=\"text-align: right;\">\n",
              "      <th></th>\n",
              "      <th>SUBJECT_ID</th>\n",
              "      <th>ADMITTIME</th>\n",
              "      <th>ADMISSION_TYPE</th>\n",
              "      <th>NEXT_ADMITTIME</th>\n",
              "      <th>NEXT_ADMISSION_TYPE</th>\n",
              "    </tr>\n",
              "  </thead>\n",
              "  <tbody>\n",
              "    <tr>\n",
              "      <th>286</th>\n",
              "      <td>222</td>\n",
              "      <td>2137-07-15 15:31:00</td>\n",
              "      <td>EMERGENCY</td>\n",
              "      <td>2141-02-18 23:10:00</td>\n",
              "      <td>EMERGENCY</td>\n",
              "    </tr>\n",
              "    <tr>\n",
              "      <th>287</th>\n",
              "      <td>222</td>\n",
              "      <td>2141-02-18 23:10:00</td>\n",
              "      <td>EMERGENCY</td>\n",
              "      <td>2142-06-23 05:02:00</td>\n",
              "      <td>EMERGENCY</td>\n",
              "    </tr>\n",
              "    <tr>\n",
              "      <th>288</th>\n",
              "      <td>222</td>\n",
              "      <td>2142-06-11 07:15:00</td>\n",
              "      <td>ELECTIVE</td>\n",
              "      <td>2142-06-23 05:02:00</td>\n",
              "      <td>EMERGENCY</td>\n",
              "    </tr>\n",
              "    <tr>\n",
              "      <th>289</th>\n",
              "      <td>222</td>\n",
              "      <td>2142-06-23 05:02:00</td>\n",
              "      <td>EMERGENCY</td>\n",
              "      <td>2143-02-16 11:20:00</td>\n",
              "      <td>EMERGENCY</td>\n",
              "    </tr>\n",
              "    <tr>\n",
              "      <th>290</th>\n",
              "      <td>222</td>\n",
              "      <td>2143-02-16 11:20:00</td>\n",
              "      <td>EMERGENCY</td>\n",
              "      <td>NaT</td>\n",
              "      <td>NaN</td>\n",
              "    </tr>\n",
              "  </tbody>\n",
              "</table>\n",
              "</div>"
            ],
            "text/plain": [
              "     SUBJECT_ID           ADMITTIME  ...      NEXT_ADMITTIME NEXT_ADMISSION_TYPE\n",
              "286         222 2137-07-15 15:31:00  ... 2141-02-18 23:10:00           EMERGENCY\n",
              "287         222 2141-02-18 23:10:00  ... 2142-06-23 05:02:00           EMERGENCY\n",
              "288         222 2142-06-11 07:15:00  ... 2142-06-23 05:02:00           EMERGENCY\n",
              "289         222 2142-06-23 05:02:00  ... 2143-02-16 11:20:00           EMERGENCY\n",
              "290         222 2143-02-16 11:20:00  ...                 NaT                 NaN\n",
              "\n",
              "[5 rows x 5 columns]"
            ]
          },
          "metadata": {
            "tags": []
          },
          "execution_count": 8
        }
      ]
    },
    {
      "cell_type": "markdown",
      "metadata": {
        "id": "l7mcH4utE6w6",
        "colab_type": "text"
      },
      "source": [
        "## calculate Days until next admission\n"
      ]
    },
    {
      "cell_type": "code",
      "metadata": {
        "id": "WySz7DMXSr4D",
        "colab_type": "code",
        "colab": {
          "base_uri": "https://localhost:8080/",
          "height": 200
        },
        "outputId": "38fbe45f-998c-4807-c2b0-f45605bdb822"
      },
      "source": [
        "df_adm['DAYS_NEXT_ADMIT']=  (df_adm.NEXT_ADMITTIME - df_adm.DISCHTIME).dt.total_seconds()/(24*60*60)\n",
        "df_adm.loc[df_adm.SUBJECT_ID == 222,['SUBJECT_ID','ADMITTIME','ADMISSION_TYPE','NEXT_ADMITTIME','NEXT_ADMISSION_TYPE','DAYS_NEXT_ADMIT']]"
      ],
      "execution_count": 9,
      "outputs": [
        {
          "output_type": "execute_result",
          "data": {
            "text/html": [
              "<div>\n",
              "<style scoped>\n",
              "    .dataframe tbody tr th:only-of-type {\n",
              "        vertical-align: middle;\n",
              "    }\n",
              "\n",
              "    .dataframe tbody tr th {\n",
              "        vertical-align: top;\n",
              "    }\n",
              "\n",
              "    .dataframe thead th {\n",
              "        text-align: right;\n",
              "    }\n",
              "</style>\n",
              "<table border=\"1\" class=\"dataframe\">\n",
              "  <thead>\n",
              "    <tr style=\"text-align: right;\">\n",
              "      <th></th>\n",
              "      <th>SUBJECT_ID</th>\n",
              "      <th>ADMITTIME</th>\n",
              "      <th>ADMISSION_TYPE</th>\n",
              "      <th>NEXT_ADMITTIME</th>\n",
              "      <th>NEXT_ADMISSION_TYPE</th>\n",
              "      <th>DAYS_NEXT_ADMIT</th>\n",
              "    </tr>\n",
              "  </thead>\n",
              "  <tbody>\n",
              "    <tr>\n",
              "      <th>286</th>\n",
              "      <td>222</td>\n",
              "      <td>2137-07-15 15:31:00</td>\n",
              "      <td>EMERGENCY</td>\n",
              "      <td>2141-02-18 23:10:00</td>\n",
              "      <td>EMERGENCY</td>\n",
              "      <td>1312.465278</td>\n",
              "    </tr>\n",
              "    <tr>\n",
              "      <th>287</th>\n",
              "      <td>222</td>\n",
              "      <td>2141-02-18 23:10:00</td>\n",
              "      <td>EMERGENCY</td>\n",
              "      <td>2142-06-23 05:02:00</td>\n",
              "      <td>EMERGENCY</td>\n",
              "      <td>486.550000</td>\n",
              "    </tr>\n",
              "    <tr>\n",
              "      <th>288</th>\n",
              "      <td>222</td>\n",
              "      <td>2142-06-11 07:15:00</td>\n",
              "      <td>ELECTIVE</td>\n",
              "      <td>2142-06-23 05:02:00</td>\n",
              "      <td>EMERGENCY</td>\n",
              "      <td>3.688889</td>\n",
              "    </tr>\n",
              "    <tr>\n",
              "      <th>289</th>\n",
              "      <td>222</td>\n",
              "      <td>2142-06-23 05:02:00</td>\n",
              "      <td>EMERGENCY</td>\n",
              "      <td>2143-02-16 11:20:00</td>\n",
              "      <td>EMERGENCY</td>\n",
              "      <td>229.743056</td>\n",
              "    </tr>\n",
              "    <tr>\n",
              "      <th>290</th>\n",
              "      <td>222</td>\n",
              "      <td>2143-02-16 11:20:00</td>\n",
              "      <td>EMERGENCY</td>\n",
              "      <td>NaT</td>\n",
              "      <td>NaN</td>\n",
              "      <td>NaN</td>\n",
              "    </tr>\n",
              "  </tbody>\n",
              "</table>\n",
              "</div>"
            ],
            "text/plain": [
              "     SUBJECT_ID           ADMITTIME  ... NEXT_ADMISSION_TYPE DAYS_NEXT_ADMIT\n",
              "286         222 2137-07-15 15:31:00  ...           EMERGENCY     1312.465278\n",
              "287         222 2141-02-18 23:10:00  ...           EMERGENCY      486.550000\n",
              "288         222 2142-06-11 07:15:00  ...           EMERGENCY        3.688889\n",
              "289         222 2142-06-23 05:02:00  ...           EMERGENCY      229.743056\n",
              "290         222 2143-02-16 11:20:00  ...                 NaN             NaN\n",
              "\n",
              "[5 rows x 6 columns]"
            ]
          },
          "metadata": {
            "tags": []
          },
          "execution_count": 9
        }
      ]
    },
    {
      "cell_type": "markdown",
      "metadata": {
        "colab_type": "text",
        "id": "CYgYQjDsJDhH"
      },
      "source": [
        "## Import NOTEEVENTS table"
      ]
    },
    {
      "cell_type": "code",
      "metadata": {
        "id": "XG16bKoUJW4z",
        "colab_type": "code",
        "colab": {
          "base_uri": "https://localhost:8080/",
          "height": 235
        },
        "outputId": "55393b90-0d7b-4bc3-bedb-26052e251e85"
      },
      "source": [
        "df_notes = pd.read_csv(table_N)\n",
        "df_notes.head()"
      ],
      "execution_count": 10,
      "outputs": [
        {
          "output_type": "stream",
          "text": [
            "/usr/local/lib/python3.6/dist-packages/IPython/core/interactiveshell.py:2718: DtypeWarning: Columns (4,5) have mixed types.Specify dtype option on import or set low_memory=False.\n",
            "  interactivity=interactivity, compiler=compiler, result=result)\n"
          ],
          "name": "stderr"
        },
        {
          "output_type": "execute_result",
          "data": {
            "text/html": [
              "<div>\n",
              "<style scoped>\n",
              "    .dataframe tbody tr th:only-of-type {\n",
              "        vertical-align: middle;\n",
              "    }\n",
              "\n",
              "    .dataframe tbody tr th {\n",
              "        vertical-align: top;\n",
              "    }\n",
              "\n",
              "    .dataframe thead th {\n",
              "        text-align: right;\n",
              "    }\n",
              "</style>\n",
              "<table border=\"1\" class=\"dataframe\">\n",
              "  <thead>\n",
              "    <tr style=\"text-align: right;\">\n",
              "      <th></th>\n",
              "      <th>ROW_ID</th>\n",
              "      <th>SUBJECT_ID</th>\n",
              "      <th>HADM_ID</th>\n",
              "      <th>CHARTDATE</th>\n",
              "      <th>CHARTTIME</th>\n",
              "      <th>STORETIME</th>\n",
              "      <th>CATEGORY</th>\n",
              "      <th>DESCRIPTION</th>\n",
              "      <th>CGID</th>\n",
              "      <th>ISERROR</th>\n",
              "      <th>TEXT</th>\n",
              "    </tr>\n",
              "  </thead>\n",
              "  <tbody>\n",
              "    <tr>\n",
              "      <th>0</th>\n",
              "      <td>174</td>\n",
              "      <td>22532</td>\n",
              "      <td>167853.0</td>\n",
              "      <td>2151-08-04</td>\n",
              "      <td>NaN</td>\n",
              "      <td>NaN</td>\n",
              "      <td>Discharge summary</td>\n",
              "      <td>Report</td>\n",
              "      <td>NaN</td>\n",
              "      <td>NaN</td>\n",
              "      <td>Admission Date:  [**2151-7-16**]       Dischar...</td>\n",
              "    </tr>\n",
              "    <tr>\n",
              "      <th>1</th>\n",
              "      <td>175</td>\n",
              "      <td>13702</td>\n",
              "      <td>107527.0</td>\n",
              "      <td>2118-06-14</td>\n",
              "      <td>NaN</td>\n",
              "      <td>NaN</td>\n",
              "      <td>Discharge summary</td>\n",
              "      <td>Report</td>\n",
              "      <td>NaN</td>\n",
              "      <td>NaN</td>\n",
              "      <td>Admission Date:  [**2118-6-2**]       Discharg...</td>\n",
              "    </tr>\n",
              "    <tr>\n",
              "      <th>2</th>\n",
              "      <td>176</td>\n",
              "      <td>13702</td>\n",
              "      <td>167118.0</td>\n",
              "      <td>2119-05-25</td>\n",
              "      <td>NaN</td>\n",
              "      <td>NaN</td>\n",
              "      <td>Discharge summary</td>\n",
              "      <td>Report</td>\n",
              "      <td>NaN</td>\n",
              "      <td>NaN</td>\n",
              "      <td>Admission Date:  [**2119-5-4**]              D...</td>\n",
              "    </tr>\n",
              "    <tr>\n",
              "      <th>3</th>\n",
              "      <td>177</td>\n",
              "      <td>13702</td>\n",
              "      <td>196489.0</td>\n",
              "      <td>2124-08-18</td>\n",
              "      <td>NaN</td>\n",
              "      <td>NaN</td>\n",
              "      <td>Discharge summary</td>\n",
              "      <td>Report</td>\n",
              "      <td>NaN</td>\n",
              "      <td>NaN</td>\n",
              "      <td>Admission Date:  [**2124-7-21**]              ...</td>\n",
              "    </tr>\n",
              "    <tr>\n",
              "      <th>4</th>\n",
              "      <td>178</td>\n",
              "      <td>26880</td>\n",
              "      <td>135453.0</td>\n",
              "      <td>2162-03-25</td>\n",
              "      <td>NaN</td>\n",
              "      <td>NaN</td>\n",
              "      <td>Discharge summary</td>\n",
              "      <td>Report</td>\n",
              "      <td>NaN</td>\n",
              "      <td>NaN</td>\n",
              "      <td>Admission Date:  [**2162-3-3**]              D...</td>\n",
              "    </tr>\n",
              "  </tbody>\n",
              "</table>\n",
              "</div>"
            ],
            "text/plain": [
              "   ROW_ID  ...                                               TEXT\n",
              "0     174  ...  Admission Date:  [**2151-7-16**]       Dischar...\n",
              "1     175  ...  Admission Date:  [**2118-6-2**]       Discharg...\n",
              "2     176  ...  Admission Date:  [**2119-5-4**]              D...\n",
              "3     177  ...  Admission Date:  [**2124-7-21**]              ...\n",
              "4     178  ...  Admission Date:  [**2162-3-3**]              D...\n",
              "\n",
              "[5 rows x 11 columns]"
            ]
          },
          "metadata": {
            "tags": []
          },
          "execution_count": 10
        }
      ]
    },
    {
      "cell_type": "markdown",
      "metadata": {
        "id": "7AS0zO-qa6Rj",
        "colab_type": "text"
      },
      "source": [
        "'TEXT' is the important data for text mining in this project so the first data is printed out for display."
      ]
    },
    {
      "cell_type": "code",
      "metadata": {
        "id": "PzOQnL-iMA0h",
        "colab_type": "code",
        "colab": {
          "base_uri": "https://localhost:8080/",
          "height": 70
        },
        "outputId": "1b583651-28b9-4f99-b669-c6f5a04a993f"
      },
      "source": [
        "df_notes.TEXT.iloc[0]"
      ],
      "execution_count": 11,
      "outputs": [
        {
          "output_type": "execute_result",
          "data": {
            "application/vnd.google.colaboratory.intrinsic+json": {
              "type": "string"
            },
            "text/plain": [
              "'Admission Date:  [**2151-7-16**]       Discharge Date:  [**2151-8-4**]\\n\\n\\nService:\\nADDENDUM:\\n\\nRADIOLOGIC STUDIES:  Radiologic studies also included a chest\\nCT, which confirmed cavitary lesions in the left lung apex\\nconsistent with infectious process/tuberculosis.  This also\\nmoderate-sized left pleural effusion.\\n\\nHEAD CT:  Head CT showed no intracranial hemorrhage or mass\\neffect, but old infarction consistent with past medical\\nhistory.\\n\\nABDOMINAL CT:  Abdominal CT showed lesions of\\nT10 and sacrum most likely secondary to osteoporosis. These can\\nbe followed by repeat imaging as an outpatient.\\n\\n\\n\\n                            [**First Name8 (NamePattern2) **] [**First Name4 (NamePattern1) 1775**] [**Last Name (NamePattern1) **], M.D.  [**MD Number(1) 1776**]\\n\\nDictated By:[**Hospital 1807**]\\nMEDQUIST36\\n\\nD:  [**2151-8-5**]  12:11\\nT:  [**2151-8-5**]  12:21\\nJOB#:  [**Job Number 1808**]\\n'"
            ]
          },
          "metadata": {
            "tags": []
          },
          "execution_count": 11
        }
      ]
    },
    {
      "cell_type": "markdown",
      "metadata": {
        "id": "2rB9Rc4aIUYj",
        "colab_type": "text"
      },
      "source": [
        "Because dates and PHI have been converted for confidentiality, and there are some symbols mixed in between. So in this part of data the discharge summary was selected for text mining, and other data that needs to be used will be consolidated."
      ]
    },
    {
      "cell_type": "code",
      "metadata": {
        "id": "1xkw94woLUwB",
        "colab_type": "code",
        "colab": {
          "base_uri": "https://localhost:8080/",
          "height": 266
        },
        "outputId": "af939404-a5f1-454c-9ec2-c6e8045bb333"
      },
      "source": [
        "df_notes_dis_sum = df_notes.loc[df_notes.CATEGORY == 'Discharge summary']\n",
        "print(df_notes_dis_sum)"
      ],
      "execution_count": 12,
      "outputs": [
        {
          "output_type": "stream",
          "text": [
            "       ROW_ID  ...                                               TEXT\n",
            "0         174  ...  Admission Date:  [**2151-7-16**]       Dischar...\n",
            "1         175  ...  Admission Date:  [**2118-6-2**]       Discharg...\n",
            "2         176  ...  Admission Date:  [**2119-5-4**]              D...\n",
            "3         177  ...  Admission Date:  [**2124-7-21**]              ...\n",
            "4         178  ...  Admission Date:  [**2162-3-3**]              D...\n",
            "...       ...  ...                                                ...\n",
            "60411   59608  ...  Name:  [**Known lastname 18321**],[**Known fir...\n",
            "60412   59609  ...  Name:  [**Known lastname 2706**], [**Known fir...\n",
            "60413   59621  ...  Name:  [**Known lastname 18357**]-[**Known las...\n",
            "60414   59622  ...  Name:  [**Known lastname **],[**Known firstnam...\n",
            "60415   59623  ...  Name:  [**Known lastname 12459**],[**Known fir...\n",
            "\n",
            "[59652 rows x 11 columns]\n"
          ],
          "name": "stdout"
        }
      ]
    },
    {
      "cell_type": "code",
      "metadata": {
        "id": "FuzqU89qMjbo",
        "colab_type": "code",
        "colab": {
          "base_uri": "https://localhost:8080/",
          "height": 266
        },
        "outputId": "dd9e5250-f9e5-4b9c-8ae1-f552ddbe4249"
      },
      "source": [
        "df_notes_dis_sum_last = (df_notes_dis_sum.groupby(['SUBJECT_ID','HADM_ID']).nth(-1)).reset_index()\n",
        "assert df_notes_dis_sum_last.duplicated(['HADM_ID']).sum() == 0, 'Multiple discharge summaries per admission'\n",
        "print(df_notes_dis_sum_last)"
      ],
      "execution_count": 13,
      "outputs": [
        {
          "output_type": "stream",
          "text": [
            "       SUBJECT_ID  ...                                               TEXT\n",
            "0               3  ...  Admission Date:  [**2101-10-20**]     Discharg...\n",
            "1               4  ...  Admission Date:  [**2191-3-16**]     Discharge...\n",
            "2               6  ...  Admission Date: [**2175-5-30**]        Dischar...\n",
            "3               9  ...  Name:  [**Known lastname 10050**], [**Known fi...\n",
            "4              10  ...  Admission Date:  [**2103-6-28**]       Dischar...\n",
            "...           ...  ...                                                ...\n",
            "52721       99985  ...  Admission Date:  [**2181-1-27**]              ...\n",
            "52722       99991  ...  Admission Date:  [**2184-12-24**]             ...\n",
            "52723       99992  ...  Admission Date:  [**2144-7-25**]              ...\n",
            "52724       99995  ...  Admission Date:  [**2147-2-8**]              D...\n",
            "52725       99999  ...  Admission Date:  [**2117-12-30**]             ...\n",
            "\n",
            "[52726 rows x 11 columns]\n"
          ],
          "name": "stdout"
        }
      ]
    },
    {
      "cell_type": "markdown",
      "metadata": {
        "id": "9uTRNhRiIUYw",
        "colab_type": "text"
      },
      "source": [
        "## Merge data sets"
      ]
    },
    {
      "cell_type": "code",
      "metadata": {
        "id": "Lj989RsBOKFK",
        "colab_type": "code",
        "colab": {}
      },
      "source": [
        "df_adm_notes = pd.merge(df_adm[['SUBJECT_ID','HADM_ID','ADMITTIME','DISCHTIME','DAYS_NEXT_ADMIT','NEXT_ADMITTIME','ADMISSION_TYPE','DEATHTIME']],\n",
        "                        df_notes_dis_sum_last[['SUBJECT_ID','HADM_ID','TEXT']], \n",
        "                        on = ['SUBJECT_ID','HADM_ID'],\n",
        "                        how = 'left')\n",
        "assert len(df_adm) == len(df_adm_notes), 'Number of rows increased'\n",
        " \n",
        "df_adm_notes_clean = df_adm_notes.loc[df_adm_notes.ADMISSION_TYPE != 'NEWBORN'].copy()\n",
        "\n",
        "df_adm_notes_clean['OUTPUT_LABEL'] = (df_adm_notes_clean.DAYS_NEXT_ADMIT < 30).astype('int')"
      ],
      "execution_count": 14,
      "outputs": []
    },
    {
      "cell_type": "markdown",
      "metadata": {
        "id": "y8OGS4ZbZLRV",
        "colab_type": "text"
      },
      "source": [
        "# **Set up training dataset, test dataset valid dataset**"
      ]
    },
    {
      "cell_type": "code",
      "metadata": {
        "id": "vQVJwy9pZ9hz",
        "colab_type": "code",
        "colab": {}
      },
      "source": [
        "df_adm_notes_clean = df_adm_notes_clean.sample(n = len(df_adm_notes_clean), random_state = 42)\n",
        "df_adm_notes_clean = df_adm_notes_clean.reset_index(drop = True)\n",
        "\n",
        "df_valid_test=df_adm_notes_clean.sample(frac=0.30,random_state=42)\n",
        "\n",
        "df_test = df_valid_test.sample(frac = 0.5, random_state = 42)\n",
        "df_valid = df_valid_test.drop(df_test.index)\n",
        "\n",
        "df_train_all=df_adm_notes_clean.drop(df_valid_test.index)"
      ],
      "execution_count": 15,
      "outputs": []
    },
    {
      "cell_type": "code",
      "metadata": {
        "id": "k0hQGkPKavu0",
        "colab_type": "code",
        "colab": {
          "base_uri": "https://localhost:8080/",
          "height": 35
        },
        "outputId": "9794f136-a571-45cb-c78c-e2b5b88bafee"
      },
      "source": [
        "rows_pos = df_train_all.OUTPUT_LABEL == 1\n",
        "df_train_pos = df_train_all.loc[rows_pos]\n",
        "df_train_neg = df_train_all.loc[~rows_pos]\n",
        "\n",
        "df_train = pd.concat([df_train_pos, df_train_neg.sample(n = len(df_train_pos), random_state = 42)],axis = 0)\n",
        "\n",
        "df_train = df_train.sample(n = len(df_train), random_state = 42).reset_index(drop = True)\n",
        "\n",
        "print('Train prevalence (n = %d):'%len(df_train), df_train.OUTPUT_LABEL.sum()/ len(df_train))"
      ],
      "execution_count": 16,
      "outputs": [
        {
          "output_type": "stream",
          "text": [
            "Train prevalence (n = 4184): 0.5\n"
          ],
          "name": "stdout"
        }
      ]
    },
    {
      "cell_type": "code",
      "metadata": {
        "id": "X50xDTm6cl0k",
        "colab_type": "code",
        "colab": {}
      },
      "source": [
        "from keras.utils import np_utils\n",
        "\n",
        "y_train = df_train.OUTPUT_LABEL\n",
        "y_valid = df_valid.OUTPUT_LABEL\n",
        "Y_train = np_utils.to_categorical(y_train)\n",
        "Y_valid = np_utils.to_categorical(y_valid)"
      ],
      "execution_count": 17,
      "outputs": []
    },
    {
      "cell_type": "markdown",
      "metadata": {
        "id": "sVXzpiRAa9VC",
        "colab_type": "text"
      },
      "source": [
        "# **Preprocess text data**"
      ]
    },
    {
      "cell_type": "code",
      "metadata": {
        "id": "Eroed7DQTw_Q",
        "colab_type": "code",
        "colab": {
          "base_uri": "https://localhost:8080/",
          "height": 88
        },
        "outputId": "35931b5c-ce61-41c3-e3a6-0442f07f1e31"
      },
      "source": [
        "import string\n",
        "import nltk\n",
        "import re\n",
        "\n",
        "nltk.download('punkt')\n",
        "nltk.download('stopwords')\n",
        "\n",
        "from nltk.corpus import stopwords"
      ],
      "execution_count": 18,
      "outputs": [
        {
          "output_type": "stream",
          "text": [
            "[nltk_data] Downloading package punkt to /root/nltk_data...\n",
            "[nltk_data]   Package punkt is already up-to-date!\n",
            "[nltk_data] Downloading package stopwords to /root/nltk_data...\n",
            "[nltk_data]   Package stopwords is already up-to-date!\n"
          ],
          "name": "stdout"
        }
      ]
    },
    {
      "cell_type": "code",
      "metadata": {
        "id": "CoOdeFPtSkeh",
        "colab_type": "code",
        "colab": {
          "base_uri": "https://localhost:8080/",
          "height": 71
        },
        "outputId": "9b6d306b-dda3-4dd5-b2bf-a8b60b9f429f"
      },
      "source": [
        "df_train.TEXT.iloc[0]"
      ],
      "execution_count": 19,
      "outputs": [
        {
          "output_type": "execute_result",
          "data": {
            "application/vnd.google.colaboratory.intrinsic+json": {
              "type": "string"
            },
            "text/plain": [
              "\"Admission Date:  [**2144-5-6**]              Discharge Date:   [**2144-5-12**]\\n\\nDate of Birth:  [**2096-7-8**]             Sex:   M\\n\\nService: CARDIOTHORACIC\\n\\nAllergies:\\nZyban\\n\\nAttending:[**First Name3 (LF) 2969**]\\nChief Complaint:\\nStage IIIB (T4) carcinoma of the\\nright lung.\\n\\n\\nMajor Surgical or Invasive Procedure:\\ns/p median sternotomy for mediastinal mass w/ gortex to SVC.\\n\\n\\nHistory of Present Illness:\\nMr. [**Known lastname 8878**] is a 48-year-old gentleman with\\nbiopsy-proven T4 carcinoma of the right upper lobe presenting\\na superior vena caval syndrome. He received induction\\nchemoradiotherapy with an excellent response and no evidence\\nfor distant disease. He had adequate functional reserve, and\\ngiven his youth and good performance status, an\\naggressive approach to resect the disease and reconstruct his\\ncentral veins was planned for this admission.\\n\\nPast Medical History:\\n-Stage IIIB (T4) NSCLCA\\n-s/p RUL lobectomy en bloc w/ SVC and brachiocephalic veins\\nresection and [**Doctor Last Name 4726**]-tex reconstruction of SVC and brachiocephalic\\nveins [**2144-5-6**]\\n-s/p radiation and chemotherapy\\n\\nSocial History:\\nHistory of 1ppd tobacco use. Patient lives with his partner in\\n[**Location (un) 538**]. He works for a company that sells scientific\\nresearch equipment.\\n\\n\\nFamily History:\\nNotable for extensive CAD in multiple relatives in their 50's,\\nincluding his father, who had an MI at age 52.\\n\\nPhysical Exam:\\nGeneral: well appearing anxious man in NAD\\nHEENT: notable for facial swelling consistant w/ SVC syndrome.\\nChest: CTA bilat\\nCOR: RRR S1,S2. Slightly distant heart sounds.\\nAbd: soft, round, NT, ND, +BS\\nExtrem: no LE C/C/E\\nneuro: intact\\n\\nPertinent Results:\\n[**2144-5-10**] CXR\\nA single AP view of the chest is obtained [**2144-5-10**] at\\napproximately 13:15 hours following the removal of a right sided\\npleural tube. The right sided hydropneumothorax is not\\nsignificantly changed since the prior examination. Minimal left\\ncostophrenic angle blunting may represent fibrosis or a small\\nleft pleural effusion. Evidence of surgery in the right upper\\nlobe.\\n\\nIMPRESSION:\\nStable appearances of the chest following chest tube removal.\\n\\n[**2144-5-8**] Chest CT: IMPRESSION:\\n1. No large fluid collection to explain hematocrit drop\\nidentified. Expected area of dense atelectasis and probable\\nhematoma noted within the surgical bed.\\n2. Pneumomediastinum and right-sided hydropneumothorax with\\nsmall air component. Chest tube/drains appear appropriately\\npositioned.\\n3. Surgical chain sutures and vascular grafts/stents from recent\\nright upper segmental resection and SVC reconstruction.\\n4. Consolidation noted within the medial right lower lobe may\\nrepresent atelectasis or early aspiration pneumonitis. This may\\nbe followed up on subsequent imaging.\\n5. Stable left back sebaceous cyst.\\n\\n WBC RBC Hgb Hct MCV MCH MCHC RDW Plt Ct\\n[**2144-5-11**] 07:30AM    7.3 3.05* 9.0* 27.3* 89 29.6 33.2 14.7\\n231\\n  BASIC COAGULATION (PT, PTT, PLT, INR) PT PTT Plt Ct INR(PT)\\n[**2144-5-11**] 07:30AM        231\\n\\nChemistry\\n  RENAL & GLUCOSE Glucose UreaN Creat Na K Cl HCO3 AnGap\\n[**2144-5-11**] 07:30AM    103 9 0.7 136 4.2 101 26 13\\n\\n\\n\\nBrief Hospital Course:\\nPt was admitted and taken to the OR for Bronchoscopy, Median\\nsternotomy, Right upper lobectomy en bloc with superior vena\\ncava and right and left brachiocephalic veins. Mediastinal\\nlymphadenectomy. [**Doctor Last Name 4726**]-Tex reconstruction of superior vena cava\\nin both brachiocephalic veins. Pt's post op course was\\nunremarkable. A right apical and basilar chest tube were placed\\nin the OR and were removed on POD 2 and 3 respectively. He\\nprogressed well post operatively-pain was well controlled on PCA\\nthen transitioned to po pain med. reg diet, and was ambulating\\nindep on roomair. He was d/c'd to home on POD#6.\\n\\n\\nMedications on Admission:\\nnone\\n\\nDischarge Medications:\\n1. Aspirin 325 mg Tablet Sig: One (1) Tablet PO DAILY (Daily).\\nDisp:*30 Tablet(s)* Refills:*2*\\n2. Metoprolol Tartrate 50 mg Tablet Sig: One (1) Tablet PO BID\\n(2 times a day).\\nDisp:*60 Tablet(s)* Refills:*2*\\n3. Oxycodone-Acetaminophen 5-325 mg Tablet Sig: 1-2 Tablets PO\\nQ4-6H (every 4 to 6 hours) as needed.\\nDisp:*75 Tablet(s)* Refills:*0*\\n\\n\\nDischarge Disposition:\\nHome With Service\\n\\nFacility:\\n[**Location (un) 86**] VNA\\n\\nDischarge Diagnosis:\\ns/p median sternotomy for mediastinal mass w/ gortex to SVC.\\n\\n\\nDischarge Condition:\\ngood\\n\\n\\nDischarge Instructions:\\ncall Dr.[**Name (NI) **] office [**Telephone/Fax (1) 170**] if you develop fever,\\nchills, chest pain, shortness of breath, redness or drainage\\nfrom your incision site.\\n\\nFollowup Instructions:\\nCall Dr.[**Doctor Last Name 4738**] [**Telephone/Fax (1) 170**] office for a follow up\\nappointment\\n\\n\\n\\nCompleted by:[**2144-5-20**]\""
            ]
          },
          "metadata": {
            "tags": []
          },
          "execution_count": 19
        }
      ]
    },
    {
      "cell_type": "code",
      "metadata": {
        "id": "8-uNCSX9bH_w",
        "colab_type": "code",
        "colab": {}
      },
      "source": [
        "def preprocess_text(df):\n",
        "    df.TEXT = df.TEXT.fillna(' ')\n",
        "    df.TEXT =df.TEXT.str.replace('\\n',' ')\n",
        "    df.TEXT =df.TEXT.str.replace('\\r',' ')\n",
        "    return df"
      ],
      "execution_count": 20,
      "outputs": []
    },
    {
      "cell_type": "code",
      "metadata": {
        "id": "5Xum_CALbKgS",
        "colab_type": "code",
        "colab": {}
      },
      "source": [
        "df_train = preprocess_text(df_train)\n",
        "df_valid = preprocess_text(df_valid)\n",
        "df_test = preprocess_text(df_test)\n"
      ],
      "execution_count": 21,
      "outputs": []
    },
    {
      "cell_type": "code",
      "metadata": {
        "id": "rb3kGb3SUE57",
        "colab_type": "code",
        "colab": {
          "base_uri": "https://localhost:8080/",
          "height": 71
        },
        "outputId": "2826aab6-bace-402c-970e-d50879481bed"
      },
      "source": [
        "df_train.TEXT.iloc[0]"
      ],
      "execution_count": 22,
      "outputs": [
        {
          "output_type": "execute_result",
          "data": {
            "application/vnd.google.colaboratory.intrinsic+json": {
              "type": "string"
            },
            "text/plain": [
              "\"Admission Date:  [**2144-5-6**]              Discharge Date:   [**2144-5-12**]  Date of Birth:  [**2096-7-8**]             Sex:   M  Service: CARDIOTHORACIC  Allergies: Zyban  Attending:[**First Name3 (LF) 2969**] Chief Complaint: Stage IIIB (T4) carcinoma of the right lung.   Major Surgical or Invasive Procedure: s/p median sternotomy for mediastinal mass w/ gortex to SVC.   History of Present Illness: Mr. [**Known lastname 8878**] is a 48-year-old gentleman with biopsy-proven T4 carcinoma of the right upper lobe presenting a superior vena caval syndrome. He received induction chemoradiotherapy with an excellent response and no evidence for distant disease. He had adequate functional reserve, and given his youth and good performance status, an aggressive approach to resect the disease and reconstruct his central veins was planned for this admission.  Past Medical History: -Stage IIIB (T4) NSCLCA -s/p RUL lobectomy en bloc w/ SVC and brachiocephalic veins resection and [**Doctor Last Name 4726**]-tex reconstruction of SVC and brachiocephalic veins [**2144-5-6**] -s/p radiation and chemotherapy  Social History: History of 1ppd tobacco use. Patient lives with his partner in [**Location (un) 538**]. He works for a company that sells scientific research equipment.   Family History: Notable for extensive CAD in multiple relatives in their 50's, including his father, who had an MI at age 52.  Physical Exam: General: well appearing anxious man in NAD HEENT: notable for facial swelling consistant w/ SVC syndrome. Chest: CTA bilat COR: RRR S1,S2. Slightly distant heart sounds. Abd: soft, round, NT, ND, +BS Extrem: no LE C/C/E neuro: intact  Pertinent Results: [**2144-5-10**] CXR A single AP view of the chest is obtained [**2144-5-10**] at approximately 13:15 hours following the removal of a right sided pleural tube. The right sided hydropneumothorax is not significantly changed since the prior examination. Minimal left costophrenic angle blunting may represent fibrosis or a small left pleural effusion. Evidence of surgery in the right upper lobe.  IMPRESSION: Stable appearances of the chest following chest tube removal.  [**2144-5-8**] Chest CT: IMPRESSION: 1. No large fluid collection to explain hematocrit drop identified. Expected area of dense atelectasis and probable hematoma noted within the surgical bed. 2. Pneumomediastinum and right-sided hydropneumothorax with small air component. Chest tube/drains appear appropriately positioned. 3. Surgical chain sutures and vascular grafts/stents from recent right upper segmental resection and SVC reconstruction. 4. Consolidation noted within the medial right lower lobe may represent atelectasis or early aspiration pneumonitis. This may be followed up on subsequent imaging. 5. Stable left back sebaceous cyst.   WBC RBC Hgb Hct MCV MCH MCHC RDW Plt Ct [**2144-5-11**] 07:30AM    7.3 3.05* 9.0* 27.3* 89 29.6 33.2 14.7 231   BASIC COAGULATION (PT, PTT, PLT, INR) PT PTT Plt Ct INR(PT) [**2144-5-11**] 07:30AM        231  Chemistry   RENAL & GLUCOSE Glucose UreaN Creat Na K Cl HCO3 AnGap [**2144-5-11**] 07:30AM    103 9 0.7 136 4.2 101 26 13    Brief Hospital Course: Pt was admitted and taken to the OR for Bronchoscopy, Median sternotomy, Right upper lobectomy en bloc with superior vena cava and right and left brachiocephalic veins. Mediastinal lymphadenectomy. [**Doctor Last Name 4726**]-Tex reconstruction of superior vena cava in both brachiocephalic veins. Pt's post op course was unremarkable. A right apical and basilar chest tube were placed in the OR and were removed on POD 2 and 3 respectively. He progressed well post operatively-pain was well controlled on PCA then transitioned to po pain med. reg diet, and was ambulating indep on roomair. He was d/c'd to home on POD#6.   Medications on Admission: none  Discharge Medications: 1. Aspirin 325 mg Tablet Sig: One (1) Tablet PO DAILY (Daily). Disp:*30 Tablet(s)* Refills:*2* 2. Metoprolol Tartrate 50 mg Tablet Sig: One (1) Tablet PO BID (2 times a day). Disp:*60 Tablet(s)* Refills:*2* 3. Oxycodone-Acetaminophen 5-325 mg Tablet Sig: 1-2 Tablets PO Q4-6H (every 4 to 6 hours) as needed. Disp:*75 Tablet(s)* Refills:*0*   Discharge Disposition: Home With Service  Facility: [**Location (un) 86**] VNA  Discharge Diagnosis: s/p median sternotomy for mediastinal mass w/ gortex to SVC.   Discharge Condition: good   Discharge Instructions: call Dr.[**Name (NI) **] office [**Telephone/Fax (1) 170**] if you develop fever, chills, chest pain, shortness of breath, redness or drainage from your incision site.  Followup Instructions: Call Dr.[**Doctor Last Name 4738**] [**Telephone/Fax (1) 170**] office for a follow up appointment    Completed by:[**2144-5-20**]\""
            ]
          },
          "metadata": {
            "tags": []
          },
          "execution_count": 22
        }
      ]
    },
    {
      "cell_type": "code",
      "metadata": {
        "id": "rqmhsTC4IRW8",
        "colab_type": "code",
        "colab": {}
      },
      "source": [
        "def clean_text(text):\n",
        "    punc_list = string.punctuation+'0123456789'\n",
        "    t = str.maketrans(dict.fromkeys(punc_list, \" \"))\n",
        "    text = text.lower().translate(t).split()\n",
        "    stops = set(stopwords.words(\"english\"))\n",
        "    text = [w for w in text if not w in stops and len(w) >= 3]\n",
        "    text = \" \".join(text)\n",
        "    text = re.sub(r\"[^A-Za-z0-9^,!.\\/'+-=]\", \" \", text)\n",
        "    text = re.sub(r\"what's\", \"what is \", text)\n",
        "    text = re.sub(r\"\\'s\", \" \", text)\n",
        "    text = re.sub(r\"\\'ve\", \" have \", text)\n",
        "    text = re.sub(r\"n't\", \" not \", text)\n",
        "    text = re.sub(r\"i'm\", \"i am \", text)\n",
        "    text = re.sub(r\"\\'re\", \" are \", text)\n",
        "    text = re.sub(r\"\\'d\", \" would \", text)\n",
        "    text = re.sub(r\"\\'ll\", \" will \", text)\n",
        "    text = re.sub(r\",\", \" \", text)\n",
        "    text = re.sub(r\"\\.\", \" \", text)\n",
        "    text = re.sub(r\"!\", \" ! \", text)\n",
        "    text = re.sub(r\"\\/\", \" \", text)\n",
        "    text = re.sub(r\"\\^\", \" ^ \", text)\n",
        "    text = re.sub(r\"\\+\", \" + \", text)\n",
        "    text = re.sub(r\"\\-\", \" - \", text)\n",
        "    text = re.sub(r\"\\=\", \" = \", text)\n",
        "    text = re.sub(r\"'\", \" \", text)\n",
        "    text = re.sub(r\"(\\d+)(k)\", r\"\\g<1>000\", text)\n",
        "    text = re.sub(r\":\", \" : \", text)\n",
        "    text = re.sub(r\" e g \", \" eg \", text)\n",
        "    text = re.sub(r\" b g \", \" bg \", text)\n",
        "    text = re.sub(r\" u s \", \" american \", text)\n",
        "    text = re.sub(r\"\\0s\", \"0\", text)\n",
        "    text = re.sub(r\" 9 11 \", \"911\", text)\n",
        "    text = re.sub(r\"e - mail\", \"email\", text)\n",
        "    text = re.sub(r\"j k\", \"jk\", text)\n",
        "    text = re.sub(r\"\\s{2,}\", \" \", text)\n",
        "\n",
        "    return text"
      ],
      "execution_count": 23,
      "outputs": []
    },
    {
      "cell_type": "code",
      "metadata": {
        "id": "1ef0k5yoITV2",
        "colab_type": "code",
        "colab": {}
      },
      "source": [
        "df_train['TEXT'] = df_train['TEXT'].map(lambda x: clean_text(x))\n",
        "df_valid['TEXT'] = df_valid['TEXT'].map(lambda x: clean_text(x))\n",
        "df_test['TEXT'] = df_test['TEXT'].map(lambda x: clean_text(x))\n"
      ],
      "execution_count": 24,
      "outputs": []
    },
    {
      "cell_type": "code",
      "metadata": {
        "id": "1xZHWQ0PKIbQ",
        "colab_type": "code",
        "colab": {
          "base_uri": "https://localhost:8080/",
          "height": 71
        },
        "outputId": "8079009a-7d09-4423-e44d-529833b31aca"
      },
      "source": [
        "df_train.TEXT.iloc[0]"
      ],
      "execution_count": 25,
      "outputs": [
        {
          "output_type": "execute_result",
          "data": {
            "application/vnd.google.colaboratory.intrinsic+json": {
              "type": "string"
            },
            "text/plain": [
              "'admission date discharge date date birth sex service cardiothoracic allergies zyban attending first name chief complaint stage iiib carcinoma right lung major surgical invasive procedure median sternotomy mediastinal mass gortex svc history present illness known lastname year old gentleman biopsy proven carcinoma right upper lobe presenting superior vena caval syndrome received induction chemoradiotherapy excellent response evidence distant disease adequate functional reserve given youth good performance status aggressive approach resect disease reconstruct central veins planned admission past medical history stage iiib nsclca rul lobectomy bloc svc brachiocephalic veins resection doctor last name tex reconstruction svc brachiocephalic veins radiation chemotherapy social history history ppd tobacco use patient lives partner location works company sells scientific research equipment family history notable extensive cad multiple relatives including father age physical exam general well appearing anxious man nad heent notable facial swelling consistant svc syndrome chest cta bilat cor rrr slightly distant heart sounds abd soft round extrem neuro intact pertinent results cxr single view chest obtained approximately hours following removal right sided pleural tube right sided hydropneumothorax significantly changed since prior examination minimal left costophrenic angle blunting may represent fibrosis small left pleural effusion evidence surgery right upper lobe impression stable appearances chest following chest tube removal chest impression large fluid collection explain hematocrit drop identified expected area dense atelectasis probable hematoma noted within surgical bed pneumomediastinum right sided hydropneumothorax small air component chest tube drains appear appropriately positioned surgical chain sutures vascular grafts stents recent right upper segmental resection svc reconstruction consolidation noted within medial right lower lobe may represent atelectasis early aspiration pneumonitis may followed subsequent imaging stable left back sebaceous cyst wbc rbc hgb hct mcv mch mchc rdw plt basic coagulation ptt plt inr ptt plt inr chemistry renal glucose glucose urean creat hco angap brief hospital course admitted taken bronchoscopy median sternotomy right upper lobectomy bloc superior vena cava right left brachiocephalic veins mediastinal lymphadenectomy doctor last name tex reconstruction superior vena cava brachiocephalic veins post course unremarkable right apical basilar chest tube placed removed pod respectively progressed well post operatively pain well controlled pca transitioned pain med reg diet ambulating indep roomair home pod medications admission none discharge medications aspirin tablet sig one tablet daily daily disp tablet refills metoprolol tartrate tablet sig one tablet bid times day disp tablet refills oxycodone acetaminophen tablet sig tablets every hours needed disp tablet refills discharge disposition home service facility location vna discharge diagnosis median sternotomy mediastinal mass gortex svc discharge condition good discharge instructions call name office telephone fax develop fever chills chest pain shortness breath redness drainage incision site followup instructions call doctor last name telephone fax office follow appointment completed'"
            ]
          },
          "metadata": {
            "tags": []
          },
          "execution_count": 25
        }
      ]
    },
    {
      "cell_type": "markdown",
      "metadata": {
        "id": "l9rky_3UIUZ6",
        "colab_type": "text"
      },
      "source": [
        "### Build a Tokenizer to pre-processing text by serializing and vectorizing it"
      ]
    },
    {
      "cell_type": "code",
      "metadata": {
        "id": "k8jgqeOXpRQx",
        "colab_type": "code",
        "colab": {}
      },
      "source": [
        "maxlen = 4000\n",
        "embed_size = 100\n",
        "batch_size = 100\n",
        "epochs_size = 10"
      ],
      "execution_count": 26,
      "outputs": []
    },
    {
      "cell_type": "code",
      "metadata": {
        "id": "cGLGVf7MdKgH",
        "colab_type": "code",
        "colab": {}
      },
      "source": [
        "from keras.preprocessing import sequence, text\n",
        "from keras.preprocessing import sequence, text\n",
        "from keras.preprocessing.text import Tokenizer\n",
        "from keras.utils import np_utils\n",
        "\n",
        "tokenizer  = Tokenizer(num_words=400000)\n",
        "\n",
        "\n",
        "tokenizer.fit_on_texts(df_train.TEXT)\n",
        "df_train_seq = tokenizer.texts_to_sequences(df_train['TEXT'])\n",
        "df_valid_seq = tokenizer.texts_to_sequences(df_valid['TEXT'])\n",
        "\n",
        "X_train = sequence.pad_sequences(df_train_seq, maxlen=maxlen)\n",
        "X_valid = sequence.pad_sequences(df_valid_seq, maxlen=maxlen)\n"
      ],
      "execution_count": 28,
      "outputs": []
    },
    {
      "cell_type": "code",
      "metadata": {
        "id": "EGau5ZNi64IY",
        "colab_type": "code",
        "colab": {}
      },
      "source": [
        "\n",
        "Corpus = []\n",
        "for i in range(0,len(df_train)):\n",
        "    Corpus.append(df_train.TEXT[i].split(\" \"))"
      ],
      "execution_count": 29,
      "outputs": []
    },
    {
      "cell_type": "code",
      "metadata": {
        "id": "N2KiVXyj5HXU",
        "colab_type": "code",
        "colab": {
          "base_uri": "https://localhost:8080/",
          "height": 52
        },
        "outputId": "ea9834e2-7bdf-4775-a8ae-bd5a8e6f7214"
      },
      "source": [
        "from gensim.models import Word2Vec\n",
        "\n",
        "model_vec = Word2Vec(Corpus, min_count=1, window= 3)\n",
        "\n",
        "\n",
        "embedding_matrix = np.zeros((len(tokenizer.word_index)+1, 100))\n",
        "for word, i in tokenizer.word_index.items():\n",
        "    embedding_vector = model_vec[word]\n",
        "    if embedding_vector is not None:\n",
        "        embedding_matrix[i] = embedding_vector\n",
        "\n",
        "vocabulary_size = embedding_matrix.shape[0]"
      ],
      "execution_count": 30,
      "outputs": [
        {
          "output_type": "stream",
          "text": [
            "/usr/local/lib/python3.6/dist-packages/ipykernel_launcher.py:8: DeprecationWarning: Call to deprecated `__getitem__` (Method will be removed in 4.0.0, use self.wv.__getitem__() instead).\n",
            "  \n"
          ],
          "name": "stderr"
        }
      ]
    },
    {
      "cell_type": "markdown",
      "metadata": {
        "id": "f1JMNMe16KhH",
        "colab_type": "text"
      },
      "source": [
        "# **Buliding BILSTM model and Training it**"
      ]
    },
    {
      "cell_type": "code",
      "metadata": {
        "id": "KlOP00u8pFmB",
        "colab_type": "code",
        "colab": {
          "base_uri": "https://localhost:8080/",
          "height": 764
        },
        "outputId": "5b1d1522-5bc4-495e-b495-9976239c6901"
      },
      "source": [
        "from keras.models import Sequential\n",
        "from keras.layers import Dense\n",
        "from keras.layers import LSTM\n",
        "from sklearn.preprocessing import MinMaxScaler\n",
        "from sklearn.metrics import mean_squared_error\n",
        "from keras.layers import Dense, LSTM, Embedding, Dropout, Conv1D, MaxPooling1D, Bidirectional\n",
        "from keras.layers.embeddings import Embedding\n",
        "\n",
        "model = Sequential()\n",
        "model.add(Embedding(vocabulary_size, embed_size, input_length=maxlen , weights=[embedding_matrix], trainable=False))\n",
        "model.add(Dropout(0.2))\n",
        "model.add(Conv1D(64, 5, activation='relu'))\n",
        "model.add(MaxPooling1D(pool_size=4))\n",
        "model.add(Bidirectional(LSTM(100,recurrent_dropout= 0.2, return_sequences= True)))\n",
        "model.add(Bidirectional(LSTM(50,recurrent_dropout= 0.2)))\n",
        "model.add(Dense(2, activation='sigmoid'))\n",
        "model.summary()\n",
        "    \n",
        "model.compile(optimizer='adam', loss='binary_crossentropy', metrics=['acc'])\n",
        "    \n",
        "model_train = model.fit(X_train, Y_train, batch_size=batch_size, epochs=epochs_size,\n",
        "          validation_data=(X_valid, Y_valid))"
      ],
      "execution_count": 31,
      "outputs": [
        {
          "output_type": "stream",
          "text": [
            "Model: \"sequential\"\n",
            "_________________________________________________________________\n",
            "Layer (type)                 Output Shape              Param #   \n",
            "=================================================================\n",
            "embedding (Embedding)        (None, 4000, 100)         3838400   \n",
            "_________________________________________________________________\n",
            "dropout (Dropout)            (None, 4000, 100)         0         \n",
            "_________________________________________________________________\n",
            "conv1d (Conv1D)              (None, 3996, 64)          32064     \n",
            "_________________________________________________________________\n",
            "max_pooling1d (MaxPooling1D) (None, 999, 64)           0         \n",
            "_________________________________________________________________\n",
            "bidirectional (Bidirectional (None, 999, 200)          132000    \n",
            "_________________________________________________________________\n",
            "bidirectional_1 (Bidirection (None, 100)               100400    \n",
            "_________________________________________________________________\n",
            "dense (Dense)                (None, 2)                 202       \n",
            "=================================================================\n",
            "Total params: 4,103,066\n",
            "Trainable params: 264,666\n",
            "Non-trainable params: 3,838,400\n",
            "_________________________________________________________________\n",
            "Epoch 1/10\n",
            "42/42 [==============================] - 671s 16s/step - loss: 0.6824 - acc: 0.5545 - val_loss: 0.6173 - val_acc: 0.6901\n",
            "Epoch 2/10\n",
            "42/42 [==============================] - 670s 16s/step - loss: 0.6651 - acc: 0.5875 - val_loss: 0.5714 - val_acc: 0.7131\n",
            "Epoch 3/10\n",
            "42/42 [==============================] - 673s 16s/step - loss: 0.6557 - acc: 0.6152 - val_loss: 0.7743 - val_acc: 0.3566\n",
            "Epoch 4/10\n",
            "42/42 [==============================] - 670s 16s/step - loss: 0.6413 - acc: 0.6348 - val_loss: 0.6654 - val_acc: 0.5276\n",
            "Epoch 5/10\n",
            "42/42 [==============================] - 669s 16s/step - loss: 0.6318 - acc: 0.6434 - val_loss: 0.7234 - val_acc: 0.5337\n",
            "Epoch 6/10\n",
            "42/42 [==============================] - 668s 16s/step - loss: 0.6280 - acc: 0.6465 - val_loss: 0.5669 - val_acc: 0.7197\n",
            "Epoch 7/10\n",
            "42/42 [==============================] - 671s 16s/step - loss: 0.6151 - acc: 0.6606 - val_loss: 0.5286 - val_acc: 0.7822\n",
            "Epoch 8/10\n",
            "42/42 [==============================] - 679s 16s/step - loss: 0.6118 - acc: 0.6695 - val_loss: 0.6415 - val_acc: 0.6171\n",
            "Epoch 9/10\n",
            "42/42 [==============================] - 680s 16s/step - loss: 0.5990 - acc: 0.6876 - val_loss: 0.6448 - val_acc: 0.6275\n",
            "Epoch 10/10\n",
            "42/42 [==============================] - 699s 17s/step - loss: 0.5859 - acc: 0.6876 - val_loss: 0.5458 - val_acc: 0.7317\n"
          ],
          "name": "stdout"
        }
      ]
    },
    {
      "cell_type": "markdown",
      "metadata": {
        "id": "A1YTBQ5U6c0M",
        "colab_type": "text"
      },
      "source": [
        "# **Performance Metric**"
      ]
    },
    {
      "cell_type": "code",
      "metadata": {
        "id": "zjamuHjasYRB",
        "colab_type": "code",
        "colab": {
          "base_uri": "https://localhost:8080/",
          "height": 350
        },
        "outputId": "e48d0863-e905-46eb-8f56-a0e0fd1666ce"
      },
      "source": [
        "plt.figure(figsize=(10, 5))\n",
        "\n",
        "plt.subplot(121)\n",
        "plt.plot(model_train.history['acc'], c='g', label='train')\n",
        "plt.plot(model_train.history['val_acc'], c='b', label='validation')\n",
        "plt.legend()\n",
        "plt.xlabel('epoch')\n",
        "plt.ylabel('accuracy')\n",
        "plt.title('Model accuracy')\n",
        "\n",
        "plt.subplot(122)\n",
        "plt.plot(model_train.history['loss'], c='g', label='train')\n",
        "plt.plot(model_train.history['val_loss'], c='b', label='validation')\n",
        "plt.legend()\n",
        "plt.xlabel('epoch')\n",
        "plt.ylabel('loss')\n",
        "plt.title('Model loss')\n",
        "\n",
        "plt.show()"
      ],
      "execution_count": 32,
      "outputs": [
        {
          "output_type": "display_data",
          "data": {
            "image/png": "[encoded data removed]",
            "text/plain": [
              "<Figure size 720x360 with 2 Axes>"
            ]
          },
          "metadata": {
            "tags": [],
            "needs_background": "light"
          }
        }
      ]
    },
    {
      "cell_type": "code",
      "metadata": {
        "id": "z5Pv-l3COmmc",
        "colab_type": "code",
        "colab": {}
      },
      "source": [
        "def calc_accuracy(y_actual, y_pred, thresh):\n",
        "    return (sum((y_pred > thresh) & (y_actual == 1))+sum((y_pred < thresh) & (y_actual == 0))) /len(y_actual)\n",
        "\n",
        "def calc_recall(y_actual, y_pred, thresh):\n",
        "    return sum((y_pred > thresh) & (y_actual == 1)) /sum(y_actual)\n",
        "\n",
        "def calc_precision(y_actual, y_pred, thresh):\n",
        "    return sum((y_pred > thresh) & (y_actual == 1)) /sum(y_pred > thresh)\n",
        "\n",
        "def calc_specificity(y_actual, y_pred, thresh):\n",
        "    return sum((y_pred < thresh) & (y_actual == 0)) /sum(y_actual ==0)\n",
        "\n",
        "def calc_prevalence(y_actual):\n",
        "    return sum((y_actual == 1)) /len(y_actual)"
      ],
      "execution_count": 33,
      "outputs": []
    },
    {
      "cell_type": "code",
      "metadata": {
        "id": "aY-LUrzXtCW1",
        "colab_type": "code",
        "colab": {}
      },
      "source": [
        "y_train_preds = model.predict(X_train)[:,1]\n",
        "y_valid_preds = model.predict(X_valid)[:,1]"
      ],
      "execution_count": 34,
      "outputs": []
    },
    {
      "cell_type": "code",
      "metadata": {
        "id": "Y8_N8QlPOpyp",
        "colab_type": "code",
        "colab": {
          "base_uri": "https://localhost:8080/",
          "height": 492
        },
        "outputId": "7b8220db-6077-49ad-c610-98e42f1326ae"
      },
      "source": [
        "from sklearn.metrics import roc_curve\n",
        "from sklearn.metrics import roc_auc_score\n",
        "\n",
        "fpr_train, tpr_train, thresholds_train = roc_curve(y_train, y_train_preds)\n",
        "fpr_valid, tpr_valid, thresholds_valid = roc_curve(y_valid, y_valid_preds)\n",
        "\n",
        "\n",
        "thresh = 0.5\n",
        "\n",
        "auc_train = roc_auc_score(y_train, y_train_preds)\n",
        "auc_valid = roc_auc_score(y_valid, y_valid_preds)\n",
        "\n",
        "print('Train AUC:%.3f'%auc_train)\n",
        "print('Valid AUC:%.3f'%auc_valid)\n",
        "\n",
        "print('Train accuracy:%.3f'%calc_accuracy(y_train, y_train_preds, thresh))\n",
        "print('Valid accuracy:%.3f'%calc_accuracy(y_valid, y_valid_preds, thresh))\n",
        "\n",
        "\n",
        "print('Train recall:%.3f'%calc_recall(y_train, y_train_preds, thresh))\n",
        "print('Valid recall:%.3f'%calc_recall(y_valid, y_valid_preds, thresh))\n",
        "\n",
        "print('Train precision:%.3f'%calc_precision(y_train, y_train_preds, thresh))\n",
        "print('Valid precision:%.3f'%calc_precision(y_valid, y_valid_preds, thresh))\n",
        "\n",
        "print('Train specificity:%.3f'%calc_specificity(y_train, y_train_preds, thresh))\n",
        "print('Valid specificity:%.3f'%calc_specificity(y_valid, y_valid_preds, thresh))\n",
        "\n",
        "print('Train prevalence:%.3f'%calc_prevalence(y_train))\n",
        "print('Valid prevalence:%.3f'%calc_prevalence(y_valid))\n",
        "\n",
        "\n",
        "plt.plot(fpr_train, tpr_train,'r-', label = 'Train AUC: %.2f'%auc_train)\n",
        "plt.plot(fpr_valid, tpr_valid,'b-',label = 'Valid AUC: %.2f'%auc_valid)\n",
        "plt.plot([0,1],[0,1],'-k')\n",
        "plt.xlabel('False Positive Rate')\n",
        "plt.ylabel('True Positive Rate')\n",
        "plt.legend()\n",
        "plt.show()"
      ],
      "execution_count": 35,
      "outputs": [
        {
          "output_type": "stream",
          "text": [
            "Train AUC:0.803\n",
            "Valid AUC:0.682\n",
            "Train accuracy:0.716\n",
            "Valid accuracy:0.731\n",
            "Train recall:0.601\n",
            "Valid recall:0.517\n",
            "Train precision:0.780\n",
            "Valid precision:0.109\n",
            "Train specificity:0.831\n",
            "Valid specificity:0.743\n",
            "Train prevalence:0.500\n",
            "Valid prevalence:0.057\n"
          ],
          "name": "stdout"
        },
        {
          "output_type": "display_data",
          "data": {
            "image/png": "[encoded data removed]",
            "text/plain": [
              "<Figure size 432x288 with 1 Axes>"
            ]
          },
          "metadata": {
            "tags": [],
            "needs_background": "light"
          }
        }
      ]
    }
  ]
}